{
  "cells": [
    {
      "cell_type": "code",
      "execution_count": null,
      "metadata": {
        "id": "kfYZz6LHxTys"
      },
      "outputs": [],
      "source": [
        "# For tips on running notebooks in Google Colab, see\n",
        "# https://pytorch.org/tutorials/beginner/colab\n",
        "%matplotlib inline"
      ]
    },
    {
      "cell_type": "markdown",
      "metadata": {
        "id": "KllGIyZkxTyw"
      },
      "source": [
        "\n",
        "# NLP From Scratch: Classifying Names with a Character-Level RNN\n",
        "**Author**: [Sean Robertson](https://github.com/spro)\n",
        "\n",
        "We will be building and training a basic character-level Recurrent Neural\n",
        "Network (RNN) to classify words. This tutorial, along with two other\n",
        "Natural Language Processing (NLP) \"from scratch\" tutorials\n",
        ":doc:`/intermediate/char_rnn_generation_tutorial` and\n",
        ":doc:`/intermediate/seq2seq_translation_tutorial`, show how to\n",
        "preprocess data to model NLP. In particular these tutorials do not\n",
        "use many of the convenience functions of `torchtext`, so you can see how\n",
        "preprocessing to model NLP works at a low level.\n",
        "\n",
        "A character-level RNN reads words as a series of characters -\n",
        "outputting a prediction and \"hidden state\" at each step, feeding its\n",
        "previous hidden state into each next step. We take the final prediction\n",
        "to be the output, i.e. which class the word belongs to.\n",
        "\n",
        "Specifically, we'll train on a few thousand surnames from 18 languages\n",
        "of origin, and predict which language a name is from based on the\n",
        "spelling:\n",
        "\n",
        "::\n",
        "\n",
        "    $ python predict.py Hinton\n",
        "    (-0.47) Scottish\n",
        "    (-1.52) English\n",
        "    (-3.57) Irish\n",
        "\n",
        "    $ python predict.py Schmidhuber\n",
        "    (-0.19) German\n",
        "    (-2.48) Czech\n",
        "    (-2.68) Dutch\n",
        "\n",
        "\n",
        "## Recommended Preparation\n",
        "\n",
        "Before starting this tutorial it is recommended that you have installed PyTorch,\n",
        "and have a basic understanding of Python programming language and Tensors:\n",
        "\n",
        "-  https://pytorch.org/ For installation instructions\n",
        "-  :doc:`/beginner/deep_learning_60min_blitz` to get started with PyTorch in general\n",
        "   and learn the basics of Tensors\n",
        "-  :doc:`/beginner/pytorch_with_examples` for a wide and deep overview\n",
        "-  :doc:`/beginner/former_torchies_tutorial` if you are former Lua Torch user\n",
        "\n",
        "It would also be useful to know about RNNs and how they work:\n",
        "\n",
        "-  [The Unreasonable Effectiveness of Recurrent Neural\n",
        "   Networks](https://karpathy.github.io/2015/05/21/rnn-effectiveness/)_\n",
        "   shows a bunch of real life examples\n",
        "-  [Understanding LSTM\n",
        "   Networks](https://colah.github.io/posts/2015-08-Understanding-LSTMs/)_\n",
        "   is about LSTMs specifically but also informative about RNNs in\n",
        "   general\n",
        "\n",
        "## Preparing the Data\n",
        "\n",
        ".. Note::\n",
        "   Download the data from\n",
        "   [here](https://download.pytorch.org/tutorial/data.zip)\n",
        "   and extract it to the current directory.\n",
        "\n",
        "Included in the ``data/names`` directory are 18 text files named as\n",
        "``[Language].txt``. Each file contains a bunch of names, one name per\n",
        "line, mostly romanized (but we still need to convert from Unicode to\n",
        "ASCII).\n",
        "\n",
        "We'll end up with a dictionary of lists of names per language,\n",
        "``{language: [names ...]}``. The generic variables \"category\" and \"line\"\n",
        "(for language and name in our case) are used for later extensibility.\n"
      ]
    },
    {
      "cell_type": "code",
      "execution_count": null,
      "metadata": {
        "colab": {
          "base_uri": "https://localhost:8080/"
        },
        "id": "ctOrerHCxTyy",
        "outputId": "2a25a4dd-3fce-4930-fda7-1e80204d0284"
      },
      "outputs": [
        {
          "output_type": "stream",
          "name": "stdout",
          "text": [
            "['sample_data/German.txt', 'sample_data/English.txt', 'sample_data/Irish.txt', 'sample_data/French.txt', 'sample_data/Spanish.txt', 'sample_data/Dutch.txt', 'sample_data/Chinese.txt', 'sample_data/Polish.txt', 'sample_data/Russian.txt', 'sample_data/Greek.txt', 'sample_data/Scottish.txt', 'sample_data/Czech.txt', 'sample_data/Portuguese.txt', 'sample_data/Italian.txt', 'sample_data/Vietnamese.txt', 'sample_data/Japanese.txt', 'sample_data/Korean.txt', 'sample_data/Arabic.txt']\n",
            "Slusarski\n"
          ]
        }
      ],
      "source": [
        "from io import open\n",
        "import glob\n",
        "import os\n",
        "\n",
        "def findFiles(path): return glob.glob(path)\n",
        "\n",
        "print(findFiles('sample_data/*.txt'))\n",
        "\n",
        "import unicodedata\n",
        "import string\n",
        "\n",
        "all_letters = string.ascii_letters + \" .,;'\"\n",
        "n_letters = len(all_letters)\n",
        "\n",
        "# Turn a Unicode string to plain ASCII, thanks to https://stackoverflow.com/a/518232/2809427\n",
        "def unicodeToAscii(s):\n",
        "    return ''.join(\n",
        "        c for c in unicodedata.normalize('NFD', s)\n",
        "        if unicodedata.category(c) != 'Mn'\n",
        "        and c in all_letters\n",
        "    )\n",
        "\n",
        "print(unicodeToAscii('Ślusàrski'))\n",
        "\n",
        "# Build the category_lines dictionary, a list of names per language\n",
        "category_lines = {}\n",
        "all_categories = []\n",
        "\n",
        "# Read a file and split into lines\n",
        "def readLines(filename):\n",
        "    lines = open(filename, encoding='utf-8').read().strip().split('\\n')\n",
        "    return [unicodeToAscii(line) for line in lines]\n",
        "\n",
        "for filename in findFiles('data/names/*.txt'):\n",
        "    category = os.path.splitext(os.path.basename(filename))[0]\n",
        "    all_categories.append(category)\n",
        "    lines = readLines(filename)\n",
        "    category_lines[category] = lines\n",
        "\n",
        "n_categories = len(all_categories)"
      ]
    },
    {
      "cell_type": "markdown",
      "metadata": {
        "id": "Ue2kFyx1xTyz"
      },
      "source": [
        "Now we have ``category_lines``, a dictionary mapping each category\n",
        "(language) to a list of lines (names). We also kept track of\n",
        "``all_categories`` (just a list of languages) and ``n_categories`` for\n",
        "later reference.\n",
        "\n",
        "\n"
      ]
    },
    {
      "cell_type": "code",
      "execution_count": null,
      "metadata": {
        "colab": {
          "base_uri": "https://localhost:8080/",
          "height": 176
        },
        "id": "yfR0PcrZxTy0",
        "outputId": "20e0cab8-5d93-49d3-a708-50ec0ae6d99b"
      },
      "outputs": [
        {
          "output_type": "error",
          "ename": "KeyError",
          "evalue": "ignored",
          "traceback": [
            "\u001b[0;31m---------------------------------------------------------------------------\u001b[0m",
            "\u001b[0;31mKeyError\u001b[0m                                  Traceback (most recent call last)",
            "\u001b[0;32m<ipython-input-5-72cd43743a89>\u001b[0m in \u001b[0;36m<cell line: 1>\u001b[0;34m()\u001b[0m\n\u001b[0;32m----> 1\u001b[0;31m \u001b[0mprint\u001b[0m\u001b[0;34m(\u001b[0m\u001b[0mcategory_lines\u001b[0m\u001b[0;34m[\u001b[0m\u001b[0;34m'Italian'\u001b[0m\u001b[0;34m]\u001b[0m\u001b[0;34m[\u001b[0m\u001b[0;34m:\u001b[0m\u001b[0;36m5\u001b[0m\u001b[0;34m]\u001b[0m\u001b[0;34m)\u001b[0m\u001b[0;34m\u001b[0m\u001b[0;34m\u001b[0m\u001b[0m\n\u001b[0m",
            "\u001b[0;31mKeyError\u001b[0m: 'Italian'"
          ]
        }
      ],
      "source": [
        "print(category_lines['Italian'][:5])"
      ]
    },
    {
      "cell_type": "code",
      "execution_count": null,
      "metadata": {
        "colab": {
          "base_uri": "https://localhost:8080/",
          "height": 176
        },
        "id": "fkYieRUDxTy0",
        "outputId": "c64f94e7-4464-463a-9a1c-80a94bbc26a8"
      },
      "outputs": [
        {
          "output_type": "error",
          "ename": "KeyError",
          "evalue": "ignored",
          "traceback": [
            "\u001b[0;31m---------------------------------------------------------------------------\u001b[0m",
            "\u001b[0;31mKeyError\u001b[0m                                  Traceback (most recent call last)",
            "\u001b[0;32m<ipython-input-6-2a5965a993f6>\u001b[0m in \u001b[0;36m<cell line: 1>\u001b[0;34m()\u001b[0m\n\u001b[0;32m----> 1\u001b[0;31m \u001b[0mcategory_lines\u001b[0m\u001b[0;34m[\u001b[0m\u001b[0;34m'English'\u001b[0m\u001b[0;34m]\u001b[0m\u001b[0;34m[\u001b[0m\u001b[0;34m:\u001b[0m\u001b[0;36m5\u001b[0m\u001b[0;34m]\u001b[0m\u001b[0;34m\u001b[0m\u001b[0;34m\u001b[0m\u001b[0m\n\u001b[0m",
            "\u001b[0;31mKeyError\u001b[0m: 'English'"
          ]
        }
      ],
      "source": [
        "category_lines['English'][:5]"
      ]
    },
    {
      "cell_type": "code",
      "execution_count": null,
      "metadata": {
        "id": "FL5lx5NPxTy1"
      },
      "outputs": [],
      "source": []
    },
    {
      "cell_type": "markdown",
      "metadata": {
        "id": "JhSfut_4xTy1"
      },
      "source": [
        "### Turning Names into Tensors\n",
        "\n",
        "Now that we have all the names organized, we need to turn them into\n",
        "Tensors to make any use of them.\n",
        "\n",
        "To represent a single letter, we use a \"one-hot vector\" of size\n",
        "``<1 x n_letters>``. A one-hot vector is filled with 0s except for a 1\n",
        "at index of the current letter, e.g. ``\"b\" = <0 1 0 0 0 ...>``.\n",
        "\n",
        "To make a word we join a bunch of those into a 2D matrix\n",
        "``<line_length x 1 x n_letters>``.\n",
        "\n",
        "That extra 1 dimension is because PyTorch assumes everything is in\n",
        "batches - we're just using a batch size of 1 here.\n",
        "\n",
        "\n"
      ]
    },
    {
      "cell_type": "code",
      "execution_count": null,
      "metadata": {
        "id": "bbBMH0zMxTy2",
        "outputId": "bffdcc96-3078-4053-fb23-0b06ce73ccf4"
      },
      "outputs": [
        {
          "name": "stdout",
          "output_type": "stream",
          "text": [
            "tensor([[0., 0., 0., 0., 0., 0., 0., 0., 0., 0., 0., 0., 0., 0., 0., 0., 0., 0.,\n",
            "         0., 0., 0., 0., 0., 0., 0., 0., 0., 0., 0., 0., 0., 0., 0., 0., 0., 1.,\n",
            "         0., 0., 0., 0., 0., 0., 0., 0., 0., 0., 0., 0., 0., 0., 0., 0., 0., 0.,\n",
            "         0., 0., 0.]])\n",
            "torch.Size([5, 1, 57])\n"
          ]
        }
      ],
      "source": [
        "import torch\n",
        "\n",
        "# Find letter index from all_letters, e.g. \"a\" = 0\n",
        "def letterToIndex(letter):\n",
        "    return all_letters.find(letter)\n",
        "\n",
        "# Just for demonstration, turn a letter into a <1 x n_letters> Tensor\n",
        "def letterToTensor(letter):\n",
        "    tensor = torch.zeros(1, n_letters)\n",
        "    tensor[0][letterToIndex(letter)] = 1\n",
        "    return tensor\n",
        "\n",
        "# Turn a line into a <line_length x 1 x n_letters>,\n",
        "# or an array of one-hot letter vectors\n",
        "def lineToTensor(line):\n",
        "    tensor = torch.zeros(len(line), 1, n_letters)\n",
        "    for li, letter in enumerate(line):\n",
        "        tensor[li][0][letterToIndex(letter)] = 1\n",
        "    return tensor\n",
        "\n",
        "print(letterToTensor('J'))\n",
        "\n",
        "print(lineToTensor('Jones').size())"
      ]
    },
    {
      "cell_type": "markdown",
      "metadata": {
        "id": "dHlxdpimxTy2"
      },
      "source": [
        "## Creating the Network\n",
        "\n",
        "Before autograd, creating a recurrent neural network in Torch involved\n",
        "cloning the parameters of a layer over several timesteps. The layers\n",
        "held hidden state and gradients which are now entirely handled by the\n",
        "graph itself. This means you can implement a RNN in a very \"pure\" way,\n",
        "as regular feed-forward layers.\n",
        "\n",
        "This RNN module (mostly copied from [the PyTorch for Torch users\n",
        "tutorial](https://pytorch.org/tutorials/beginner/former_torchies/\n",
        "nn_tutorial.html#example-2-recurrent-net)_)\n",
        "is just 2 linear layers which operate on an input and hidden state, with\n",
        "a ``LogSoftmax`` layer after the output.\n",
        "\n",
        "\n"
      ]
    },
    {
      "cell_type": "code",
      "execution_count": null,
      "metadata": {
        "id": "YcV5c79sxTy3"
      },
      "outputs": [],
      "source": [
        "import torch.nn as nn\n",
        "\n",
        "class RNN(nn.Module):\n",
        "    def __init__(self, input_size, hidden_size, output_size):\n",
        "        super(RNN, self).__init__()\n",
        "\n",
        "        self.hidden_size = hidden_size\n",
        "\n",
        "        self.i2h = nn.Linear(input_size + hidden_size, hidden_size)\n",
        "        self.h2o = nn.Linear(hidden_size, output_size)\n",
        "        self.softmax = nn.LogSoftmax(dim=1)\n",
        "\n",
        "    def forward(self, input, hidden):\n",
        "        combined = torch.cat((input, hidden), 1)\n",
        "        hidden = self.i2h(combined)\n",
        "        output = self.h2o(hidden)\n",
        "        output = self.softmax(output)\n",
        "        return output, hidden\n",
        "\n",
        "    def initHidden(self):\n",
        "        return torch.zeros(1, self.hidden_size)\n",
        "\n",
        "n_hidden = 128\n",
        "rnn = RNN(n_letters, n_hidden, n_categories)"
      ]
    },
    {
      "cell_type": "code",
      "execution_count": null,
      "metadata": {
        "id": "vkPtNjT4xTy3"
      },
      "outputs": [],
      "source": [
        "##lstm"
      ]
    },
    {
      "cell_type": "code",
      "execution_count": null,
      "metadata": {
        "id": "RzbNtmzvxTy3"
      },
      "outputs": [],
      "source": [
        "import torch.nn as nn\n",
        "\n",
        "class LSTM(nn.Module):\n",
        "    def __init__(self, input_size, hidden_size, output_size, sigma=0.1):\n",
        "        super(LSTM, self).__init__()\n",
        "        self.hidden_size = hidden_size\n",
        "#         self.i2h = nn.Linear(input_size + hidden_size, hidden_size)\n",
        "        self.h2o = nn.Linear(hidden_size, output_size)\n",
        "        self.softmax = nn.LogSoftmax(dim=1)\n",
        "        init_weight = lambda *shape: nn.Parameter(torch.randn(*shape) * sigma)\n",
        "        triple = lambda: (init_weight(input_size, hidden_size),\n",
        "                          init_weight(hidden_size, hidden_size),\n",
        "                          nn.Parameter(torch.zeros(hidden_size)))\n",
        "        self.W_xi, self.W_hi, self.b_i = triple()  # Input gate\n",
        "        self.W_xf, self.W_hf, self.b_f = triple()  # Forget gate\n",
        "        self.W_xo, self.W_ho, self.b_o = triple()  # Output gate\n",
        "        self.W_xc, self.W_hc, self.b_c = triple()  # Input node\n",
        "\n",
        "    def forward(self, inputs, H_C=None):\n",
        "#         combined = torch.cat((input, hidden), 1)\n",
        "#         hidden = self.i2h(combined)\n",
        "#         output = self.h2o(hidden)\n",
        "#         output = self.softmax(output)\n",
        "        if H_C is None:\n",
        "        # Initial state with shape: (batch_size, num_hiddens)\n",
        "            H = torch.zeros((inputs.shape[1], self.num_hiddens))\n",
        "            C = torch.zeros((inputs.shape[1], self.num_hiddens))\n",
        "        else:\n",
        "            H, C = H_C\n",
        "        outputs = []\n",
        "        for X in inputs:\n",
        "            I = torch.sigmoid(torch.matmul(X, self.W_xi) +\n",
        "                            torch.matmul(H, self.W_hi) + self.b_i)\n",
        "            F = torch.sigmoid(torch.matmul(X, self.W_xf) +\n",
        "                            torch.matmul(H, self.W_hf) + self.b_f)\n",
        "            O = torch.sigmoid(torch.matmul(X, self.W_xo) +\n",
        "                            torch.matmul(H, self.W_ho) + self.b_o)\n",
        "            C_tilde = torch.tanh(torch.matmul(X, self.W_xc) +\n",
        "                               torch.matmul(H, self.W_hc) + self.b_c)\n",
        "            C = F * C + I * C_tilde\n",
        "            H = O * torch.tanh(C)\n",
        "            outputs.append(H)\n",
        "        ys=self.h2o(H)\n",
        "        y=self.softmax(ys)\n",
        "        return y,(H,C)\n",
        "        #return outputs, (H, C)\n",
        "        #return output, hidden\n",
        "\n",
        "    def initHidden(self):\n",
        "        return (torch.zeros(1, self.hidden_size),torch.zeros(1, self.hidden_size))\n",
        "\n",
        "n_hidden = 128\n",
        "lstm = LSTM(n_letters, n_hidden, n_categories)"
      ]
    },
    {
      "cell_type": "code",
      "execution_count": null,
      "metadata": {
        "id": "RMvb_2vMxTy4"
      },
      "outputs": [],
      "source": [
        "import torch\n",
        "import torch.nn as nn\n",
        "\n",
        "class CustomLSTM(nn.Module):\n",
        "    def __init__(self, input_size, hidden_size, output_size, dropout_rate=0.0, sigma=0.1):\n",
        "        super(CustomLSTM, self).__init__()\n",
        "        self.hidden_size = hidden_size\n",
        "\n",
        "        # Linear layer for the output\n",
        "        self.output_linear = nn.Linear(hidden_size, output_size)\n",
        "\n",
        "        # Softmax layer for the output\n",
        "        self.softmax = nn.LogSoftmax(dim=1)\n",
        "\n",
        "        # Dropout layer for regularization\n",
        "        self.dropout = nn.Dropout(dropout_rate)\n",
        "\n",
        "        # Function to initialize weights\n",
        "        def init_weight(*shape):\n",
        "            return nn.Parameter(torch.randn(*shape) * sigma)\n",
        "\n",
        "        # Helper function to create gate parameters\n",
        "        def create_gate_parameters():\n",
        "            return (init_weight(input_size, hidden_size),\n",
        "                    init_weight(hidden_size, hidden_size),\n",
        "                    nn.Parameter(torch.zeros(hidden_size)))\n",
        "\n",
        "        # Parameters for the input, forget, output gates and cell state\n",
        "        self.W_xi, self.W_hi, self.b_i = create_gate_parameters()  # Input gate\n",
        "        self.W_xf, self.W_hf, self.b_f = create_gate_parameters()  # Forget gate\n",
        "        self.W_xo, self.W_ho, self.b_o = create_gate_parameters()  # Output gate\n",
        "        self.W_xc, self.W_hc, self.b_c = create_gate_parameters()  # Cell state\n",
        "\n",
        "    def forward(self, inputs, initial_state=None):\n",
        "        if initial_state is None:\n",
        "            # Initial states for hidden and cell state\n",
        "            hidden_state = torch.zeros((inputs.shape[1], self.hidden_size))\n",
        "            cell_state = torch.zeros((inputs.shape[1], self.hidden_size))\n",
        "        else:\n",
        "            hidden_state, cell_state = initial_state\n",
        "\n",
        "        outputs = []\n",
        "        for X in inputs:\n",
        "            # Calculating gate activations\n",
        "            input_gate = torch.sigmoid(torch.matmul(X, self.W_xi) + torch.matmul(hidden_state, self.W_hi) + self.b_i)\n",
        "            forget_gate = torch.sigmoid(torch.matmul(X, self.W_xf) + torch.matmul(hidden_state, self.W_hf) + self.b_f)\n",
        "            output_gate = torch.sigmoid(torch.matmul(X, self.W_xo) + torch.matmul(hidden_state, self.W_ho) + self.b_o)\n",
        "            cell_candidates = torch.tanh(torch.matmul(X, self.W_xc) + torch.matmul(hidden_state, self.W_hc) + self.b_c)\n",
        "\n",
        "            # Updating cell state and hidden state\n",
        "            cell_state = forget_gate * cell_state + input_gate * cell_candidates\n",
        "            hidden_state = output_gate * torch.tanh(cell_state)\n",
        "\n",
        "            # Applying dropout to hidden state\n",
        "            hidden_state_dropout = self.dropout(hidden_state)\n",
        "            outputs.append(hidden_state_dropout)\n",
        "\n",
        "        # Compute the output\n",
        "        final_output = self.output_linear(hidden_state_dropout)\n",
        "        output_softmax = self.softmax(final_output)\n",
        "        return output_softmax, (hidden_state, cell_state)\n",
        "\n",
        "    def initHidden(self):\n",
        "        # Initialize hidden and cell states to zeros\n",
        "        return (torch.zeros(1, self.hidden_size), torch.zeros(1, self.hidden_size))\n",
        "\n",
        "# params of the LSTM\n",
        "n_hidden = 128\n",
        "lstm = CustomLSTM(n_letters, n_hidden, n_categories, dropout_rate=0.2)\n"
      ]
    },
    {
      "cell_type": "markdown",
      "metadata": {
        "id": "c5l08Cc_xTy4"
      },
      "source": [
        "To run a step of this network we need to pass an input (in our case, the\n",
        "Tensor for the current letter) and a previous hidden state (which we\n",
        "initialize as zeros at first). We'll get back the output (probability of\n",
        "each language) and a next hidden state (which we keep for the next\n",
        "step).\n",
        "\n",
        "\n"
      ]
    },
    {
      "cell_type": "code",
      "execution_count": null,
      "metadata": {
        "id": "_PC838OixTy4"
      },
      "outputs": [],
      "source": [
        "input = letterToTensor('A')\n",
        "hidden = (torch.zeros(1, n_hidden),torch.zeros(1, n_hidden))\n",
        "\n",
        "output, next_hidden = lstm(input, hidden)"
      ]
    },
    {
      "cell_type": "markdown",
      "metadata": {
        "id": "l4PBLeR7xTy4"
      },
      "source": [
        "For the sake of efficiency we don't want to be creating a new Tensor for\n",
        "every step, so we will use ``lineToTensor`` instead of\n",
        "``letterToTensor`` and use slices. This could be further optimized by\n",
        "precomputing batches of Tensors.\n",
        "\n",
        "\n"
      ]
    },
    {
      "cell_type": "code",
      "execution_count": null,
      "metadata": {
        "id": "cFz7bsHfxTy4",
        "outputId": "7a7d84a4-910d-4eb1-a8c0-71da3cc8b2a1"
      },
      "outputs": [
        {
          "name": "stdout",
          "output_type": "stream",
          "text": [
            "tensor([[-2.9062, -2.9210, -2.8167, -2.9318, -2.8783, -2.9401, -2.8767, -2.8277,\n",
            "         -2.8232, -2.9179, -2.9943, -2.8985, -2.8444, -2.9082, -2.9477, -2.9107,\n",
            "         -2.8980, -2.8072]], grad_fn=<LogSoftmaxBackward0>)\n"
          ]
        }
      ],
      "source": [
        "input = lineToTensor('Albert')\n",
        "hidden = (torch.zeros(1, n_hidden),torch.zeros(1, n_hidden))\n",
        "\n",
        "output, next_hidden = lstm(input[0], hidden)\n",
        "print(output)"
      ]
    },
    {
      "cell_type": "code",
      "execution_count": null,
      "metadata": {
        "id": "Xfw8hOIZxTy5",
        "outputId": "dede3ca9-8951-40cc-d160-dab417d500af"
      },
      "outputs": [
        {
          "data": {
            "text/plain": [
              "(torch.Size([1, 18]),\n",
              " tensor([[-2.9062, -2.9210, -2.8167, -2.9318, -2.8783, -2.9401, -2.8767, -2.8277,\n",
              "          -2.8232, -2.9179, -2.9943, -2.8985, -2.8444, -2.9082, -2.9477, -2.9107,\n",
              "          -2.8980, -2.8072]], grad_fn=<LogSoftmaxBackward0>))"
            ]
          },
          "execution_count": 14,
          "metadata": {},
          "output_type": "execute_result"
        }
      ],
      "source": [
        "output.shape, output"
      ]
    },
    {
      "cell_type": "code",
      "execution_count": null,
      "metadata": {
        "id": "9Bn4XfSkxTy5",
        "outputId": "97982bd4-c075-48b4-d011-98418cd80c24"
      },
      "outputs": [
        {
          "data": {
            "text/plain": [
              "(tensor([[-0.0338, -0.0094,  0.0178, -0.0054, -0.0430, -0.0143, -0.0283, -0.0189,\n",
              "          -0.0125,  0.0054, -0.0087, -0.0181, -0.0065, -0.0206, -0.0248, -0.0271,\n",
              "           0.0141,  0.0291, -0.0265, -0.0251, -0.0474,  0.0211,  0.0137, -0.0207,\n",
              "          -0.0183,  0.0167,  0.0220,  0.0260, -0.0046,  0.0065, -0.0319, -0.0017,\n",
              "          -0.0460, -0.0108,  0.0400,  0.0146, -0.0239,  0.0032,  0.0067,  0.0066,\n",
              "           0.0415, -0.0195, -0.0595,  0.0205,  0.0179, -0.0640,  0.0391,  0.0022,\n",
              "          -0.0310, -0.0176,  0.0382,  0.0180,  0.0271,  0.0250,  0.0315,  0.0086,\n",
              "           0.0415,  0.0185,  0.0117,  0.0416, -0.0288, -0.0323,  0.0261, -0.0572,\n",
              "          -0.0170, -0.0493,  0.0156, -0.0286, -0.0193,  0.0008, -0.0797, -0.0120,\n",
              "           0.0641,  0.0064,  0.0229, -0.0158,  0.0125,  0.0206, -0.0127, -0.0312,\n",
              "           0.0266, -0.0132, -0.0193,  0.0072, -0.0204, -0.0320, -0.0008,  0.0330,\n",
              "           0.0098, -0.0111,  0.0324, -0.0176, -0.0146, -0.0169, -0.0019,  0.0190,\n",
              "          -0.0021,  0.0017, -0.0615,  0.0489, -0.0014, -0.0293,  0.0399, -0.0022,\n",
              "          -0.0134,  0.0202, -0.0204,  0.0108,  0.0463, -0.0337,  0.0141,  0.0239,\n",
              "           0.0389, -0.0495, -0.0144,  0.0162,  0.0144,  0.0093, -0.0089,  0.0194,\n",
              "           0.0377,  0.0231, -0.0169,  0.0261, -0.0075, -0.0240, -0.0162, -0.0021]],\n",
              "        grad_fn=<MulBackward0>),\n",
              " tensor([[-0.0671, -0.0186,  0.0371, -0.0097, -0.0830, -0.0291, -0.0559, -0.0392,\n",
              "          -0.0251,  0.0101, -0.0168, -0.0395, -0.0134, -0.0383, -0.0523, -0.0541,\n",
              "           0.0310,  0.0566, -0.0478, -0.0507, -0.0934,  0.0406,  0.0274, -0.0402,\n",
              "          -0.0360,  0.0322,  0.0468,  0.0538, -0.0086,  0.0138, -0.0637, -0.0034,\n",
              "          -0.0933, -0.0225,  0.0773,  0.0294, -0.0519,  0.0061,  0.0146,  0.0122,\n",
              "           0.0809, -0.0435, -0.1156,  0.0422,  0.0346, -0.1239,  0.0786,  0.0046,\n",
              "          -0.0656, -0.0356,  0.0796,  0.0350,  0.0532,  0.0483,  0.0632,  0.0169,\n",
              "           0.0817,  0.0379,  0.0240,  0.0815, -0.0603, -0.0667,  0.0519, -0.1159,\n",
              "          -0.0317, -0.0919,  0.0338, -0.0544, -0.0420,  0.0016, -0.1605, -0.0254,\n",
              "           0.1313,  0.0143,  0.0434, -0.0334,  0.0244,  0.0429, -0.0252, -0.0641,\n",
              "           0.0538, -0.0285, -0.0409,  0.0146, -0.0413, -0.0608, -0.0018,  0.0633,\n",
              "           0.0192, -0.0246,  0.0634, -0.0364, -0.0296, -0.0308, -0.0040,  0.0396,\n",
              "          -0.0044,  0.0032, -0.1196,  0.0990, -0.0029, -0.0609,  0.0774, -0.0044,\n",
              "          -0.0290,  0.0397, -0.0458,  0.0218,  0.0893, -0.0697,  0.0279,  0.0490,\n",
              "           0.0793, -0.1032, -0.0302,  0.0302,  0.0259,  0.0197, -0.0178,  0.0393,\n",
              "           0.0756,  0.0478, -0.0347,  0.0505, -0.0150, -0.0500, -0.0320, -0.0040]],\n",
              "        grad_fn=<AddBackward0>))"
            ]
          },
          "execution_count": 15,
          "metadata": {},
          "output_type": "execute_result"
        }
      ],
      "source": [
        "next_hidden"
      ]
    },
    {
      "cell_type": "markdown",
      "metadata": {
        "id": "4aYYt2SexTy5"
      },
      "source": [
        "As you can see the output is a ``<1 x n_categories>`` Tensor, where\n",
        "every item is the likelihood of that category (higher is more likely).\n",
        "\n",
        "\n"
      ]
    },
    {
      "cell_type": "markdown",
      "metadata": {
        "id": "JU_-L4rwxTy5"
      },
      "source": [
        "## Training\n",
        "Preparing for Training\n",
        "----------------------\n",
        "\n",
        "Before going into training we should make a few helper functions. The\n",
        "first is to interpret the output of the network, which we know to be a\n",
        "likelihood of each category. We can use ``Tensor.topk`` to get the index\n",
        "of the greatest value:\n",
        "\n",
        "\n"
      ]
    },
    {
      "cell_type": "code",
      "execution_count": null,
      "metadata": {
        "id": "mS4afS8UxTy5",
        "outputId": "28fbf67a-dae7-4f64-9906-5716eebd468f"
      },
      "outputs": [
        {
          "name": "stdout",
          "output_type": "stream",
          "text": [
            "('Polish', 17)\n"
          ]
        }
      ],
      "source": [
        "def categoryFromOutput(output):\n",
        "    top_n, top_i = output.topk(1)\n",
        "    category_i = top_i[0].item()\n",
        "    return all_categories[category_i], category_i\n",
        "\n",
        "print(categoryFromOutput(output))"
      ]
    },
    {
      "cell_type": "markdown",
      "metadata": {
        "id": "ffexz4KfxTy6"
      },
      "source": [
        "We will also want a quick way to get a training example (a name and its\n",
        "language):\n",
        "\n",
        "\n"
      ]
    },
    {
      "cell_type": "code",
      "execution_count": null,
      "metadata": {
        "id": "mV-maa82xTy6",
        "outputId": "1f29616f-870b-42ac-8a05-4db2e53a305d"
      },
      "outputs": [
        {
          "name": "stdout",
          "output_type": "stream",
          "text": [
            "category = Portuguese / line = Santos\n",
            "category = Chinese / line = Chin\n",
            "category = Irish / line = Cassidy\n",
            "category = Scottish / line = Muir\n",
            "category = French / line = Chevalier\n",
            "category = French / line = Lavigne\n",
            "category = Czech / line = Kopp\n",
            "category = Scottish / line = Stewart\n",
            "category = Czech / line = Cervenka\n",
            "category = Japanese / line = Takaki\n"
          ]
        }
      ],
      "source": [
        "import random\n",
        "\n",
        "def randomChoice(l):\n",
        "    return l[random.randint(0, len(l) - 1)]\n",
        "\n",
        "def randomTrainingExample():\n",
        "    category = randomChoice(all_categories)\n",
        "    line = randomChoice(category_lines[category])\n",
        "    category_tensor = torch.tensor([all_categories.index(category)], dtype=torch.long)\n",
        "    line_tensor = lineToTensor(line)\n",
        "    return category, line, category_tensor, line_tensor\n",
        "\n",
        "for i in range(10):\n",
        "    category, line, category_tensor, line_tensor = randomTrainingExample()\n",
        "    print('category =', category, '/ line =', line)"
      ]
    },
    {
      "cell_type": "markdown",
      "metadata": {
        "id": "nogrDj29xTy6"
      },
      "source": [
        "### Training the Network\n",
        "\n",
        "Now all it takes to train this network is show it a bunch of examples,\n",
        "have it make guesses, and tell it if it's wrong.\n",
        "\n",
        "For the loss function ``nn.NLLLoss`` is appropriate, since the last\n",
        "layer of the RNN is ``nn.LogSoftmax``.\n",
        "\n",
        "\n"
      ]
    },
    {
      "cell_type": "code",
      "execution_count": null,
      "metadata": {
        "id": "mQ8-BDUKxTy6"
      },
      "outputs": [],
      "source": [
        "criterion = nn.NLLLoss()"
      ]
    },
    {
      "cell_type": "markdown",
      "metadata": {
        "id": "sjgvpKBYxTy6"
      },
      "source": [
        "Each loop of training will:\n",
        "\n",
        "-  Create input and target tensors\n",
        "-  Create a zeroed initial hidden state\n",
        "-  Read each letter in and\n",
        "\n",
        "   -  Keep hidden state for next letter\n",
        "\n",
        "-  Compare final output to target\n",
        "-  Back-propagate\n",
        "-  Return the output and loss\n",
        "\n",
        "\n"
      ]
    },
    {
      "cell_type": "code",
      "execution_count": null,
      "metadata": {
        "id": "sHByX5YDxTy6"
      },
      "outputs": [],
      "source": [
        "learning_rate = 0.005 # If you set this too high, it might explode. If too low, it might not learn\n",
        "\n",
        "def train(category_tensor, line_tensor):\n",
        "    hidden = lstm.initHidden()\n",
        "\n",
        "    lstm.zero_grad()\n",
        "\n",
        "    for i in range(line_tensor.size()[0]):\n",
        "        output, hidden = lstm(line_tensor[i], hidden)\n",
        "\n",
        "    loss = criterion(output, category_tensor)\n",
        "    loss.backward()\n",
        "\n",
        "    # Add parameters' gradients to their values, multiplied by learning rate\n",
        "    for p in lstm.parameters():\n",
        "        p.data.add_(p.grad.data, alpha=-learning_rate)\n",
        "\n",
        "    return output, loss.item()"
      ]
    },
    {
      "cell_type": "markdown",
      "metadata": {
        "id": "LhI1bM22xTy7"
      },
      "source": [
        "Now we just have to run that with a bunch of examples. Since the\n",
        "``train`` function returns both the output and loss we can print its\n",
        "guesses and also keep track of loss for plotting. Since there are 1000s\n",
        "of examples we print only every ``print_every`` examples, and take an\n",
        "average of the loss.\n",
        "\n",
        "\n"
      ]
    },
    {
      "cell_type": "code",
      "execution_count": null,
      "metadata": {
        "id": "7FWX30KsxTy7",
        "outputId": "cea88572-3baa-4237-a47f-1a097f177605"
      },
      "outputs": [
        {
          "name": "stdout",
          "output_type": "stream",
          "text": [
            "5000 5% (0m 13s) 2.8087 Sun / Korean ✓\n",
            "10000 10% (0m 27s) 2.8663 Broz / Portuguese ✗ (Polish)\n",
            "15000 15% (0m 41s) 2.8546 Tzenin / Dutch ✗ (Russian)\n",
            "20000 20% (0m 55s) 2.8694 Quraishi / Greek ✗ (Arabic)\n",
            "25000 25% (1m 8s) 2.4800 Carideo / Spanish ✗ (Italian)\n",
            "30000 30% (1m 22s) 2.0459 Crespo / Spanish ✗ (Portuguese)\n",
            "35000 35% (1m 36s) 2.2641 Payne / Irish ✗ (English)\n",
            "40000 40% (1m 49s) 2.3447 Abadi / Italian ✗ (Arabic)\n",
            "45000 45% (2m 3s) 1.1619 Mcmahon / Irish ✓\n",
            "50000 50% (2m 16s) 1.7267 Shamon / Irish ✗ (Arabic)\n",
            "55000 55% (2m 30s) 0.1869 Krakowski / Polish ✓\n",
            "60000 60% (2m 44s) 0.9170 Sook / Korean ✓\n",
            "65000 65% (2m 58s) 2.3452 Heinrichs / Dutch ✗ (German)\n",
            "70000 70% (3m 12s) 1.0827 Morek / Polish ✗ (Czech)\n",
            "75000 75% (3m 26s) 0.8028 Luu / Vietnamese ✓\n",
            "80000 80% (3m 40s) 0.0976 Sokolsky / Polish ✓\n",
            "85000 85% (3m 54s) 0.5896 Yasui / Japanese ✓\n",
            "90000 90% (4m 8s) 1.8218 Geiger / French ✗ (German)\n",
            "95000 95% (4m 22s) 0.2093 Szwedko / Polish ✓\n",
            "100000 100% (4m 36s) 2.1519 Altham / Scottish ✗ (English)\n"
          ]
        }
      ],
      "source": [
        "import time\n",
        "import math\n",
        "\n",
        "n_iters = 100000\n",
        "print_every = 5000\n",
        "plot_every = 1000\n",
        "\n",
        "\n",
        "\n",
        "# Keep track of losses for plotting\n",
        "current_loss = 0\n",
        "all_losses = []\n",
        "\n",
        "def timeSince(since):\n",
        "    now = time.time()\n",
        "    s = now - since\n",
        "    m = math.floor(s / 60)\n",
        "    s -= m * 60\n",
        "    return '%dm %ds' % (m, s)\n",
        "\n",
        "start = time.time()\n",
        "\n",
        "for iter in range(1, n_iters + 1):\n",
        "    category, line, category_tensor, line_tensor = randomTrainingExample()\n",
        "    output, loss = train(category_tensor, line_tensor)\n",
        "    current_loss += loss\n",
        "\n",
        "    # Print ``iter`` number, loss, name and guess\n",
        "    if iter % print_every == 0:\n",
        "        guess, guess_i = categoryFromOutput(output)\n",
        "        correct = '✓' if guess == category else '✗ (%s)' % category\n",
        "        print('%d %d%% (%s) %.4f %s / %s %s' % (iter, iter / n_iters * 100, timeSince(start), loss, line, guess, correct))\n",
        "\n",
        "    # Add current loss avg to list of losses\n",
        "    if iter % plot_every == 0:\n",
        "        all_losses.append(current_loss / plot_every)\n",
        "        current_loss = 0"
      ]
    },
    {
      "cell_type": "markdown",
      "metadata": {
        "id": "UMgx5PUkxTy7"
      },
      "source": [
        "### Plotting the Results\n",
        "\n",
        "Plotting the historical loss from ``all_losses`` shows the network\n",
        "learning:\n",
        "\n",
        "\n"
      ]
    },
    {
      "cell_type": "code",
      "execution_count": null,
      "metadata": {
        "id": "QxkIYiCKxTy7",
        "outputId": "6a874227-7b0d-4d6a-f68d-149d3c409ac1"
      },
      "outputs": [
        {
          "data": {
            "text/plain": [
              "[<matplotlib.lines.Line2D at 0x7fd1881d8040>]"
            ]
          },
          "execution_count": 22,
          "metadata": {},
          "output_type": "execute_result"
        },
        {
          "data": {
            "image/png": "[encoded data removed]",
            "text/plain": [
              "<Figure size 640x480 with 1 Axes>"
            ]
          },
          "metadata": {},
          "output_type": "display_data"
        }
      ],
      "source": [
        "import matplotlib.pyplot as plt\n",
        "import matplotlib.ticker as ticker\n",
        "\n",
        "plt.figure()\n",
        "plt.plot(all_losses)"
      ]
    },
    {
      "cell_type": "markdown",
      "metadata": {
        "id": "HZLJNPEnxTy8"
      },
      "source": [
        "## Evaluating the Results\n",
        "\n",
        "To see how well the network performs on different categories, we will\n",
        "create a confusion matrix, indicating for every actual language (rows)\n",
        "which language the network guesses (columns). To calculate the confusion\n",
        "matrix a bunch of samples are run through the network with\n",
        "``evaluate()``, which is the same as ``train()`` minus the backprop.\n",
        "\n",
        "\n"
      ]
    },
    {
      "cell_type": "code",
      "execution_count": null,
      "metadata": {
        "id": "YIUjzOrnxTy8"
      },
      "outputs": [],
      "source": [
        "from sklearn.metrics import accuracy_score, precision_score, recall_score, f1_score"
      ]
    },
    {
      "cell_type": "code",
      "execution_count": null,
      "metadata": {
        "id": "AwBQ70KuxTy8"
      },
      "outputs": [],
      "source": []
    },
    {
      "cell_type": "code",
      "execution_count": null,
      "metadata": {
        "id": "14pH7XqQxTy8",
        "outputId": "47ef90fd-c964-46a3-db7e-86f7ef133b23"
      },
      "outputs": [
        {
          "name": "stdout",
          "output_type": "stream",
          "text": [
            "Accuracy   : 0.5955\n"
          ]
        },
        {
          "name": "stderr",
          "output_type": "stream",
          "text": [
            "/var/folders/pg/88t62z716tx4bc3mxmsldm5r0000gn/T/ipykernel_17006/625028700.py:44: UserWarning: FixedFormatter should only be used together with FixedLocator\n",
            "  ax.set_xticklabels([''] + all_categories, rotation=90)\n",
            "/var/folders/pg/88t62z716tx4bc3mxmsldm5r0000gn/T/ipykernel_17006/625028700.py:45: UserWarning: FixedFormatter should only be used together with FixedLocator\n",
            "  ax.set_yticklabels([''] + all_categories)\n"
          ]
        },
        {
          "data": {
            "image/png": "[encoded data removed]",
            "text/plain": [
              "<Figure size 640x480 with 2 Axes>"
            ]
          },
          "metadata": {},
          "output_type": "display_data"
        }
      ],
      "source": [
        "# Keep track of correct guesses in a confusion matrix\n",
        "confusion = torch.zeros(n_categories, n_categories)\n",
        "n_confusion = 10000\n",
        "\n",
        "# Just return an output given a line\n",
        "def evaluate(line_tensor):\n",
        "    hidden = lstm.initHidden()\n",
        "\n",
        "    for i in range(line_tensor.size()[0]):\n",
        "        output, hidden = lstm(line_tensor[i], hidden)\n",
        "\n",
        "    return output\n",
        "\n",
        "y_test=[]\n",
        "y_pred=[]\n",
        "\n",
        "# Go through a bunch of examples and record which are correctly guessed\n",
        "for i in range(n_confusion):\n",
        "    category, line, category_tensor, line_tensor = randomTrainingExample()\n",
        "    output = evaluate(line_tensor)\n",
        "    guess, guess_i = categoryFromOutput(output)\n",
        "    y_test.append(category)\n",
        "    y_pred.append(guess)\n",
        "    category_i = all_categories.index(category)\n",
        "    confusion[category_i][guess_i] += 1\n",
        "\n",
        "\n",
        "accuracy = accuracy_score(y_test, y_pred)\n",
        "print(\"Accuracy   :\", accuracy)\n",
        "\n",
        "\n",
        "\n",
        "# Normalize by dividing every row by its sum\n",
        "for i in range(n_categories):\n",
        "    confusion[i] = confusion[i] / confusion[i].sum()\n",
        "\n",
        "# Set up plot\n",
        "fig = plt.figure()\n",
        "ax = fig.add_subplot(111)\n",
        "cax = ax.matshow(confusion.numpy())\n",
        "fig.colorbar(cax)\n",
        "\n",
        "# Set up axes\n",
        "ax.set_xticklabels([''] + all_categories, rotation=90)\n",
        "ax.set_yticklabels([''] + all_categories)\n",
        "\n",
        "# Force label at every tick\n",
        "ax.xaxis.set_major_locator(ticker.MultipleLocator(1))\n",
        "ax.yaxis.set_major_locator(ticker.MultipleLocator(1))\n",
        "\n",
        "# sphinx_gallery_thumbnail_number = 2\n",
        "plt.show()"
      ]
    },
    {
      "cell_type": "code",
      "execution_count": null,
      "metadata": {
        "id": "jls-uudixTy8"
      },
      "outputs": [],
      "source": []
    },
    {
      "cell_type": "code",
      "execution_count": null,
      "metadata": {
        "id": "1usPHFOhxTy8"
      },
      "outputs": [],
      "source": []
    },
    {
      "cell_type": "code",
      "execution_count": null,
      "metadata": {
        "id": "1y4ABG1qxTzB",
        "outputId": "a89e4472-2d90-4c1c-ea0b-db60c3a82746"
      },
      "outputs": [
        {
          "data": {
            "text/plain": [
              "tensor([0.3152, 0.2990, 0.6418, 0.7849, 0.4353, 0.8555, 0.7822, 0.4026, 0.7745,\n",
              "        0.1590, 0.4320, 0.8440, 0.6259, 0.7346, 0.6354, 0.6846, 0.7491, 0.6515])"
            ]
          },
          "execution_count": 25,
          "metadata": {},
          "output_type": "execute_result"
        }
      ],
      "source": [
        "confusion.diagonal()/confusion.sum(axis=1)"
      ]
    },
    {
      "cell_type": "code",
      "execution_count": null,
      "metadata": {
        "id": "S-XTShXGxTzC",
        "outputId": "ad63462c-f161-4318-a716-067b8ddb79d9"
      },
      "outputs": [
        {
          "data": {
            "text/plain": [
              "tensor(10.8072)"
            ]
          },
          "execution_count": 26,
          "metadata": {},
          "output_type": "execute_result"
        }
      ],
      "source": [
        "sum(confusion.diagonal()/confusion.sum(axis=1))"
      ]
    },
    {
      "cell_type": "markdown",
      "metadata": {
        "id": "-KeuonKVxTzC"
      },
      "source": [
        "You can pick out bright spots off the main axis that show which\n",
        "languages it guesses incorrectly, e.g. Chinese for Korean, and Spanish\n",
        "for Italian. It seems to do very well with Greek, and very poorly with\n",
        "English (perhaps because of overlap with other languages).\n",
        "\n",
        "\n"
      ]
    },
    {
      "cell_type": "markdown",
      "metadata": {
        "id": "-5mXEc4XxTzC"
      },
      "source": [
        "### Running on User Input\n",
        "\n",
        "\n"
      ]
    },
    {
      "cell_type": "code",
      "execution_count": null,
      "metadata": {
        "id": "XWoBMhoVxTzC",
        "outputId": "5c39f8ee-6e9b-438e-c1fa-6da4d5c0b1db"
      },
      "outputs": [
        {
          "name": "stdout",
          "output_type": "stream",
          "text": [
            "\n",
            "> Dovesky\n",
            "(-0.90) Russian\n",
            "(-0.91) Czech\n",
            "(-2.12) Polish\n",
            "\n",
            "> Jackson\n",
            "(-0.96) Russian\n",
            "(-1.05) English\n",
            "(-1.65) Scottish\n",
            "\n",
            "> Satoshi\n",
            "(-0.74) Japanese\n",
            "(-1.49) Arabic\n",
            "(-1.89) Italian\n"
          ]
        }
      ],
      "source": [
        "def predict(input_line, n_predictions=3):\n",
        "    print('\\n> %s' % input_line)\n",
        "    with torch.no_grad():\n",
        "        output = evaluate(lineToTensor(input_line))\n",
        "\n",
        "        # Get top N categories\n",
        "        topv, topi = output.topk(n_predictions, 1, True)\n",
        "        predictions = []\n",
        "\n",
        "        for i in range(n_predictions):\n",
        "            value = topv[0][i].item()\n",
        "            category_index = topi[0][i].item()\n",
        "            print('(%.2f) %s' % (value, all_categories[category_index]))\n",
        "            predictions.append([value, all_categories[category_index]])\n",
        "\n",
        "predict('Dovesky')\n",
        "predict('Jackson')\n",
        "predict('Satoshi')"
      ]
    },
    {
      "cell_type": "markdown",
      "metadata": {
        "id": "YKhOsPJqxTzC"
      },
      "source": [
        "The final versions of the scripts [in the Practical PyTorch\n",
        "repo](https://github.com/spro/practical-pytorch/tree/master/char-rnn-classification)_\n",
        "split the above code into a few files:\n",
        "\n",
        "-  ``data.py`` (loads files)\n",
        "-  ``model.py`` (defines the RNN)\n",
        "-  ``train.py`` (runs training)\n",
        "-  ``predict.py`` (runs ``predict()`` with command line arguments)\n",
        "-  ``server.py`` (serve prediction as a JSON API with ``bottle.py``)\n",
        "\n",
        "Run ``train.py`` to train and save the network.\n",
        "\n",
        "Run ``predict.py`` with a name to view predictions:\n",
        "\n",
        "::\n",
        "\n",
        "    $ python predict.py Hazaki\n",
        "    (-0.42) Japanese\n",
        "    (-1.39) Polish\n",
        "    (-3.51) Czech\n",
        "\n",
        "Run ``server.py`` and visit http://localhost:5533/Yourname to get JSON\n",
        "output of predictions.\n",
        "\n",
        "\n"
      ]
    },
    {
      "cell_type": "markdown",
      "metadata": {
        "id": "w3SR1rlNxTzC"
      },
      "source": [
        "## Exercises\n",
        "\n",
        "-  Try with a different dataset of line -> category, for example:\n",
        "\n",
        "   -  Any word -> language\n",
        "   -  First name -> gender\n",
        "   -  Character name -> writer\n",
        "   -  Page title -> blog or subreddit\n",
        "\n",
        "-  Get better results with a bigger and/or better shaped network\n",
        "\n",
        "   -  Add more linear layers\n",
        "   -  Try the ``nn.LSTM`` and ``nn.GRU`` layers\n",
        "   -  Combine multiple of these RNNs as a higher level network\n",
        "\n",
        "\n"
      ]
    }
  ],
  "metadata": {
    "kernelspec": {
      "display_name": "Python 3 (ipykernel)",
      "language": "python",
      "name": "python3"
    },
    "language_info": {
      "codemirror_mode": {
        "name": "ipython",
        "version": 3
      },
      "file_extension": ".py",
      "mimetype": "text/x-python",
      "name": "python",
      "nbconvert_exporter": "python",
      "pygments_lexer": "ipython3",
      "version": "3.8.3"
    },
    "colab": {
      "provenance": []
    }
  },
  "nbformat": 4,
  "nbformat_minor": 0
}